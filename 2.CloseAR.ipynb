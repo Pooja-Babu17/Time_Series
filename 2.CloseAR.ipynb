{
 "cells": [
  {
   "cell_type": "code",
   "execution_count": 1,
   "id": "c94135fd",
   "metadata": {},
   "outputs": [
    {
     "name": "stderr",
     "output_type": "stream",
     "text": [
      "D:\\ANACONDA\\ANA\\envs\\aiworks\\lib\\site-packages\\numpy\\_distributor_init.py:32: UserWarning: loaded more than 1 DLL from .libs:\n",
      "D:\\ANACONDA\\ANA\\envs\\aiworks\\lib\\site-packages\\numpy\\.libs\\libopenblas.WCDJNK7YVMPZQ2ME2ZZHJJRJ3JIKNDB7.gfortran-win_amd64.dll\n",
      "D:\\ANACONDA\\ANA\\envs\\aiworks\\lib\\site-packages\\numpy\\.libs\\libopenblas.XWYDX2IKJW2NMTWSFYNGFUWKQU3LYTCZ.gfortran-win_amd64.dll\n",
      "  stacklevel=1)\n"
     ]
    }
   ],
   "source": [
    "import pandas as pd"
   ]
  },
  {
   "cell_type": "code",
   "execution_count": 2,
   "id": "70f138f7",
   "metadata": {},
   "outputs": [],
   "source": [
    "from nsepy import get_history as gh\n",
    "import datetime as dt"
   ]
  },
  {
   "cell_type": "code",
   "execution_count": 3,
   "id": "86f95cfa",
   "metadata": {},
   "outputs": [],
   "source": [
    "stk_data = pd.read_csv(\"Tatacoffee13_21.csv\")"
   ]
  },
  {
   "cell_type": "code",
   "execution_count": 4,
   "id": "8b2a1c1b",
   "metadata": {},
   "outputs": [
    {
     "name": "stdout",
     "output_type": "stream",
     "text": [
      "           Date    Open    High     Low   Close\n",
      "2144 2021-09-01  214.00  214.25  207.90  211.10\n",
      "2145 2021-09-02  211.90  213.75  208.70  209.50\n",
      "2146 2021-09-03  210.00  211.25  206.40  207.60\n",
      "2147 2021-09-06  207.60  209.50  203.20  204.10\n",
      "2148 2021-09-07  211.35  217.00  209.60  212.45\n",
      "...         ...     ...     ...     ...     ...\n",
      "2220 2021-12-22  202.90  207.80  201.35  205.00\n",
      "2221 2021-12-23  206.00  206.85  202.05  202.95\n",
      "2222 2021-12-24  203.90  203.90  199.35  201.00\n",
      "2223 2021-12-27  200.00  222.00  196.00  218.35\n",
      "2224 2021-12-28  219.65  220.45  211.55  212.35\n",
      "\n",
      "[81 rows x 5 columns]\n"
     ]
    }
   ],
   "source": [
    "stk_data['Date'] = pd.to_datetime(stk_data['Date'])\n",
    "\n",
    "# Filter data for the specified date range\n",
    "start_date = dt.datetime(2021, 9, 1)\n",
    "end_date = dt.datetime(2022, 2, 4)\n",
    "filtered_data = stk_data[(stk_data['Date'] >= start_date) & (stk_data['Date'] <= end_date)]\n",
    "\n",
    "# Display the filtered data\n",
    "print(filtered_data)"
   ]
  },
  {
   "cell_type": "code",
   "execution_count": 5,
   "id": "24d6ee5a",
   "metadata": {},
   "outputs": [],
   "source": [
    "stk_data=stk_data[[\"Open\",\"High\",\"Low\",\"Close\"]]\n"
   ]
  },
  {
   "cell_type": "code",
   "execution_count": 6,
   "id": "75c2b995",
   "metadata": {},
   "outputs": [
    {
     "data": {
      "text/html": [
       "<div>\n",
       "<style scoped>\n",
       "    .dataframe tbody tr th:only-of-type {\n",
       "        vertical-align: middle;\n",
       "    }\n",
       "\n",
       "    .dataframe tbody tr th {\n",
       "        vertical-align: top;\n",
       "    }\n",
       "\n",
       "    .dataframe thead th {\n",
       "        text-align: right;\n",
       "    }\n",
       "</style>\n",
       "<table border=\"1\" class=\"dataframe\">\n",
       "  <thead>\n",
       "    <tr style=\"text-align: right;\">\n",
       "      <th></th>\n",
       "      <th>Open</th>\n",
       "      <th>High</th>\n",
       "      <th>Low</th>\n",
       "      <th>Close</th>\n",
       "    </tr>\n",
       "  </thead>\n",
       "  <tbody>\n",
       "    <tr>\n",
       "      <th>0</th>\n",
       "      <td>1410.60</td>\n",
       "      <td>1427.90</td>\n",
       "      <td>1408.30</td>\n",
       "      <td>1415.10</td>\n",
       "    </tr>\n",
       "    <tr>\n",
       "      <th>1</th>\n",
       "      <td>1421.00</td>\n",
       "      <td>1626.60</td>\n",
       "      <td>1416.15</td>\n",
       "      <td>1607.40</td>\n",
       "    </tr>\n",
       "    <tr>\n",
       "      <th>2</th>\n",
       "      <td>1632.55</td>\n",
       "      <td>1673.90</td>\n",
       "      <td>1613.05</td>\n",
       "      <td>1626.20</td>\n",
       "    </tr>\n",
       "    <tr>\n",
       "      <th>3</th>\n",
       "      <td>1627.75</td>\n",
       "      <td>1627.75</td>\n",
       "      <td>1574.60</td>\n",
       "      <td>1579.05</td>\n",
       "    </tr>\n",
       "    <tr>\n",
       "      <th>4</th>\n",
       "      <td>1580.00</td>\n",
       "      <td>1639.50</td>\n",
       "      <td>1565.50</td>\n",
       "      <td>1595.65</td>\n",
       "    </tr>\n",
       "    <tr>\n",
       "      <th>...</th>\n",
       "      <td>...</td>\n",
       "      <td>...</td>\n",
       "      <td>...</td>\n",
       "      <td>...</td>\n",
       "    </tr>\n",
       "    <tr>\n",
       "      <th>2220</th>\n",
       "      <td>202.90</td>\n",
       "      <td>207.80</td>\n",
       "      <td>201.35</td>\n",
       "      <td>205.00</td>\n",
       "    </tr>\n",
       "    <tr>\n",
       "      <th>2221</th>\n",
       "      <td>206.00</td>\n",
       "      <td>206.85</td>\n",
       "      <td>202.05</td>\n",
       "      <td>202.95</td>\n",
       "    </tr>\n",
       "    <tr>\n",
       "      <th>2222</th>\n",
       "      <td>203.90</td>\n",
       "      <td>203.90</td>\n",
       "      <td>199.35</td>\n",
       "      <td>201.00</td>\n",
       "    </tr>\n",
       "    <tr>\n",
       "      <th>2223</th>\n",
       "      <td>200.00</td>\n",
       "      <td>222.00</td>\n",
       "      <td>196.00</td>\n",
       "      <td>218.35</td>\n",
       "    </tr>\n",
       "    <tr>\n",
       "      <th>2224</th>\n",
       "      <td>219.65</td>\n",
       "      <td>220.45</td>\n",
       "      <td>211.55</td>\n",
       "      <td>212.35</td>\n",
       "    </tr>\n",
       "  </tbody>\n",
       "</table>\n",
       "<p>2225 rows × 4 columns</p>\n",
       "</div>"
      ],
      "text/plain": [
       "         Open     High      Low    Close\n",
       "0     1410.60  1427.90  1408.30  1415.10\n",
       "1     1421.00  1626.60  1416.15  1607.40\n",
       "2     1632.55  1673.90  1613.05  1626.20\n",
       "3     1627.75  1627.75  1574.60  1579.05\n",
       "4     1580.00  1639.50  1565.50  1595.65\n",
       "...       ...      ...      ...      ...\n",
       "2220   202.90   207.80   201.35   205.00\n",
       "2221   206.00   206.85   202.05   202.95\n",
       "2222   203.90   203.90   199.35   201.00\n",
       "2223   200.00   222.00   196.00   218.35\n",
       "2224   219.65   220.45   211.55   212.35\n",
       "\n",
       "[2225 rows x 4 columns]"
      ]
     },
     "execution_count": 6,
     "metadata": {},
     "output_type": "execute_result"
    }
   ],
   "source": [
    "stk_data"
   ]
  },
  {
   "cell_type": "code",
   "execution_count": 7,
   "id": "8dfa058b",
   "metadata": {},
   "outputs": [],
   "source": [
    "column=\"Close\""
   ]
  },
  {
   "cell_type": "code",
   "execution_count": 8,
   "id": "e02924c0",
   "metadata": {},
   "outputs": [
    {
     "name": "stdout",
     "output_type": "stream",
     "text": [
      "Len: (2225, 1)\n"
     ]
    }
   ],
   "source": [
    "from sklearn.preprocessing import MinMaxScaler\n",
    "Ms = MinMaxScaler()\n",
    "data1= Ms.fit_transform(stk_data[[column]])\n",
    "print(\"Len:\",data1.shape)"
   ]
  },
  {
   "cell_type": "code",
   "execution_count": 9,
   "id": "554d7e15",
   "metadata": {},
   "outputs": [
    {
     "data": {
      "text/plain": [
       "2225"
      ]
     },
     "execution_count": 9,
     "metadata": {},
     "output_type": "execute_result"
    }
   ],
   "source": [
    "len(data1)"
   ]
  },
  {
   "cell_type": "code",
   "execution_count": 10,
   "id": "3b7d1fef",
   "metadata": {},
   "outputs": [
    {
     "name": "stdout",
     "output_type": "stream",
     "text": [
      "2180\n",
      "X_train length: (2180, 1)\n",
      "X_test length: (45, 1)\n",
      "y_train length: (2180, 1)\n",
      "y_test length: (45, 1)\n"
     ]
    }
   ],
   "source": [
    "training_size = round(len(data1 ) * 0.98)\n",
    "print(training_size)\n",
    "X_train=data1[:training_size]\n",
    "X_test=data1[training_size:]\n",
    "print(\"X_train length:\",X_train.shape)\n",
    "print(\"X_test length:\",X_test.shape)\n",
    "y_train=data1[:training_size]\n",
    "y_test=data1[training_size:]\n",
    "print(\"y_train length:\",y_train.shape)\n",
    "print(\"y_test length:\",y_test.shape)"
   ]
  },
  {
   "cell_type": "code",
   "execution_count": 11,
   "id": "01039952",
   "metadata": {},
   "outputs": [],
   "source": [
    "import numpy \n",
    "import pandas"
   ]
  },
  {
   "cell_type": "code",
   "execution_count": 12,
   "id": "5993b9d2",
   "metadata": {},
   "outputs": [
    {
     "name": "stderr",
     "output_type": "stream",
     "text": [
      "D:\\ANACONDA\\ANA\\envs\\aiworks\\lib\\site-packages\\statsmodels\\tsa\\ar_model.py:252: FutureWarning: The parameter names will change after 0.12 is released. Set old_names to False to use the new names now. Set old_names to True to use the old names. \n",
      "  FutureWarning,\n",
      "D:\\ANACONDA\\ANA\\envs\\aiworks\\lib\\site-packages\\statsmodels\\tsa\\ar_model.py:252: FutureWarning: The parameter names will change after 0.12 is released. Set old_names to False to use the new names now. Set old_names to True to use the old names. \n",
      "  FutureWarning,\n",
      "D:\\ANACONDA\\ANA\\envs\\aiworks\\lib\\site-packages\\statsmodels\\tsa\\ar_model.py:252: FutureWarning: The parameter names will change after 0.12 is released. Set old_names to False to use the new names now. Set old_names to True to use the old names. \n",
      "  FutureWarning,\n",
      "D:\\ANACONDA\\ANA\\envs\\aiworks\\lib\\site-packages\\statsmodels\\tsa\\ar_model.py:252: FutureWarning: The parameter names will change after 0.12 is released. Set old_names to False to use the new names now. Set old_names to True to use the old names. \n",
      "  FutureWarning,\n",
      "D:\\ANACONDA\\ANA\\envs\\aiworks\\lib\\site-packages\\statsmodels\\tsa\\ar_model.py:252: FutureWarning: The parameter names will change after 0.12 is released. Set old_names to False to use the new names now. Set old_names to True to use the old names. \n",
      "  FutureWarning,\n",
      "D:\\ANACONDA\\ANA\\envs\\aiworks\\lib\\site-packages\\statsmodels\\tsa\\ar_model.py:252: FutureWarning: The parameter names will change after 0.12 is released. Set old_names to False to use the new names now. Set old_names to True to use the old names. \n",
      "  FutureWarning,\n",
      "D:\\ANACONDA\\ANA\\envs\\aiworks\\lib\\site-packages\\statsmodels\\tsa\\ar_model.py:252: FutureWarning: The parameter names will change after 0.12 is released. Set old_names to False to use the new names now. Set old_names to True to use the old names. \n",
      "  FutureWarning,\n",
      "D:\\ANACONDA\\ANA\\envs\\aiworks\\lib\\site-packages\\statsmodels\\tsa\\ar_model.py:252: FutureWarning: The parameter names will change after 0.12 is released. Set old_names to False to use the new names now. Set old_names to True to use the old names. \n",
      "  FutureWarning,\n",
      "D:\\ANACONDA\\ANA\\envs\\aiworks\\lib\\site-packages\\statsmodels\\tsa\\ar_model.py:252: FutureWarning: The parameter names will change after 0.12 is released. Set old_names to False to use the new names now. Set old_names to True to use the old names. \n",
      "  FutureWarning,\n",
      "D:\\ANACONDA\\ANA\\envs\\aiworks\\lib\\site-packages\\statsmodels\\tsa\\ar_model.py:252: FutureWarning: The parameter names will change after 0.12 is released. Set old_names to False to use the new names now. Set old_names to True to use the old names. \n",
      "  FutureWarning,\n",
      "D:\\ANACONDA\\ANA\\envs\\aiworks\\lib\\site-packages\\statsmodels\\tsa\\ar_model.py:252: FutureWarning: The parameter names will change after 0.12 is released. Set old_names to False to use the new names now. Set old_names to True to use the old names. \n",
      "  FutureWarning,\n",
      "D:\\ANACONDA\\ANA\\envs\\aiworks\\lib\\site-packages\\statsmodels\\tsa\\ar_model.py:252: FutureWarning: The parameter names will change after 0.12 is released. Set old_names to False to use the new names now. Set old_names to True to use the old names. \n",
      "  FutureWarning,\n",
      "D:\\ANACONDA\\ANA\\envs\\aiworks\\lib\\site-packages\\statsmodels\\tsa\\ar_model.py:252: FutureWarning: The parameter names will change after 0.12 is released. Set old_names to False to use the new names now. Set old_names to True to use the old names. \n",
      "  FutureWarning,\n"
     ]
    },
    {
     "name": "stdout",
     "output_type": "stream",
     "text": [
      "Lag=1, Trend=n, MSE=2.181131674906887e-05, MAPE=4.69%\n",
      "************\n",
      "Lag=1, Trend=t, MSE=2.2219652639301433e-05, MAPE=4.13%\n",
      "************\n",
      "Lag=1, Trend=c, MSE=1.9883389234431306e-05, MAPE=4.08%\n",
      "************\n",
      "Lag=1, Trend=ct, MSE=3.146856105248509e-05, MAPE=5.48%\n",
      "************\n",
      "Lag=2, Trend=n, MSE=3.046454863983536e-05, MAPE=5.38%\n",
      "************\n",
      "Lag=2, Trend=t, MSE=2.1761307169386634e-05, MAPE=4.08%\n",
      "************\n",
      "Lag=2, Trend=c, MSE=1.913178599499581e-05, MAPE=4.04%\n",
      "************\n",
      "Lag=2, Trend=ct, MSE=5.551953282623796e-05, MAPE=6.95%\n",
      "************\n",
      "Lag=3, Trend=n, MSE=2.974486831422166e-05, MAPE=5.34%\n",
      "************\n",
      "Lag=3, Trend=t, MSE=2.2095774526414983e-05, MAPE=4.11%\n",
      "************\n",
      "Lag=3, Trend=c, MSE=1.903126987789261e-05, MAPE=4.06%\n",
      "************\n",
      "Lag=3, Trend=ct, MSE=4.718066409352799e-05, MAPE=6.48%\n",
      "************\n",
      "Lag=4, Trend=n, MSE=2.7203167098218136e-05, MAPE=5.15%\n",
      "************\n",
      "Lag=4, Trend=t, MSE=2.2392563677099807e-05, MAPE=4.13%\n",
      "************\n",
      "Lag=4, Trend=c, MSE=1.922841132595301e-05, MAPE=4.07%\n",
      "************\n",
      "Lag=4, Trend=ct, MSE=4.050539714277324e-05, MAPE=6.08%\n",
      "************\n"
     ]
    },
    {
     "name": "stderr",
     "output_type": "stream",
     "text": [
      "D:\\ANACONDA\\ANA\\envs\\aiworks\\lib\\site-packages\\statsmodels\\tsa\\ar_model.py:252: FutureWarning: The parameter names will change after 0.12 is released. Set old_names to False to use the new names now. Set old_names to True to use the old names. \n",
      "  FutureWarning,\n",
      "D:\\ANACONDA\\ANA\\envs\\aiworks\\lib\\site-packages\\statsmodels\\tsa\\ar_model.py:252: FutureWarning: The parameter names will change after 0.12 is released. Set old_names to False to use the new names now. Set old_names to True to use the old names. \n",
      "  FutureWarning,\n",
      "D:\\ANACONDA\\ANA\\envs\\aiworks\\lib\\site-packages\\statsmodels\\tsa\\ar_model.py:252: FutureWarning: The parameter names will change after 0.12 is released. Set old_names to False to use the new names now. Set old_names to True to use the old names. \n",
      "  FutureWarning,\n"
     ]
    }
   ],
   "source": [
    "from sklearn.metrics import mean_squared_error\n",
    "import numpy as np\n",
    "\n",
    "trends = ['n', 't', 'c', 'ct']\n",
    "lags = [1, 2, 3, 4]\n",
    "from statsmodels.tsa.ar_model import AutoReg\n",
    "\n",
    "# Assuming you have already defined X_train, y_test, and data1 appropriately\n",
    "\n",
    "def rmsemape(y_true, y_pred):\n",
    "    mse = mean_squared_error(y_true, y_pred)\n",
    "    mape = np.mean(np.abs((y_true - y_pred) / y_true)) * 100\n",
    "    return mse, mape\n",
    "\n",
    "for i in lags:\n",
    "    for td in trends:\n",
    "        model = AutoReg(X_train, lags=i, trend=td)\n",
    "        model_fit = model.fit()\n",
    "        y_pred = model_fit.predict(start=len(X_train), end=len(data1) - 1)\n",
    "        mse, mape = rmsemape(y_test, y_pred)\n",
    "        print(\"Lag={}, Trend={}, MSE={}, MAPE={:.2f}%\".format(i, td, mse, mape))\n",
    "        print(\"************\")\n"
   ]
  },
  {
   "cell_type": "code",
   "execution_count": 13,
   "id": "9a930d9c",
   "metadata": {},
   "outputs": [
    {
     "name": "stdout",
     "output_type": "stream",
     "text": [
      "Requirement already satisfied: networkx in d:\\anaconda\\ana\\envs\\aiworks\\lib\\site-packages (2.6.3)\n"
     ]
    },
    {
     "name": "stderr",
     "output_type": "stream",
     "text": [
      "WARNING: There was an error checking the latest version of pip.\n"
     ]
    }
   ],
   "source": [
    "!pip install networkx"
   ]
  },
  {
   "cell_type": "code",
   "execution_count": 14,
   "id": "73a854e0",
   "metadata": {},
   "outputs": [
    {
     "data": {
      "text/plain": [
       "45"
      ]
     },
     "execution_count": 14,
     "metadata": {},
     "output_type": "execute_result"
    }
   ],
   "source": [
    "len(y_pred)"
   ]
  },
  {
   "cell_type": "code",
   "execution_count": 15,
   "id": "b0d5b4f0",
   "metadata": {},
   "outputs": [
    {
     "data": {
      "image/png": "[encoded data removed]",
      "text/plain": [
       "<Figure size 1000x600 with 1 Axes>"
      ]
     },
     "metadata": {},
     "output_type": "display_data"
    }
   ],
   "source": [
    "import matplotlib.pyplot as plt\n",
    "plt.figure(figsize=(10, 6))\n",
    "plt.plot(y_test, label='Actual')\n",
    "plt.plot(y_pred, label='Predicted')\n",
    "plt.xlabel('Days')\n",
    "plt.ylabel('Prices')\n",
    "plt.title('TataCoffee Close Price - AR(Normalized) - Lag={}, Trend={}'.format(i, td))\n",
    "plt.legend()\n",
    "plt.show()"
   ]
  },
  {
   "cell_type": "code",
   "execution_count": 16,
   "id": "c5f9b793",
   "metadata": {},
   "outputs": [
    {
     "data": {
      "text/plain": [
       "2225"
      ]
     },
     "execution_count": 16,
     "metadata": {},
     "output_type": "execute_result"
    }
   ],
   "source": [
    "len(data1)"
   ]
  },
  {
   "cell_type": "code",
   "execution_count": 17,
   "id": "e4454779",
   "metadata": {},
   "outputs": [
    {
     "data": {
      "text/plain": [
       "array([[0.10188892],\n",
       "       [0.1032024 ],\n",
       "       [0.1032024 ],\n",
       "       [0.10041906],\n",
       "       [0.09913685],\n",
       "       [0.10157618],\n",
       "       [0.10267075],\n",
       "       [0.10220165],\n",
       "       [0.10410933],\n",
       "       [0.10423443],\n",
       "       [0.10592319],\n",
       "       [0.10704904],\n",
       "       [0.10651739],\n",
       "       [0.10714286],\n",
       "       [0.11020766],\n",
       "       [0.10970728],\n",
       "       [0.11224043],\n",
       "       [0.11008256],\n",
       "       [0.10285839],\n",
       "       [0.10501626],\n",
       "       [0.10457843],\n",
       "       [0.10464098],\n",
       "       [0.09923067],\n",
       "       [0.09382037],\n",
       "       [0.09597823],\n",
       "       [0.09701026],\n",
       "       [0.09754191],\n",
       "       [0.09691644],\n",
       "       [0.09575932],\n",
       "       [0.10195146],\n",
       "       [0.10263948],\n",
       "       [0.10220165],\n",
       "       [0.10448461],\n",
       "       [0.10335877],\n",
       "       [0.10229547],\n",
       "       [0.10113835],\n",
       "       [0.09907431],\n",
       "       [0.09685389],\n",
       "       [0.09078684],\n",
       "       [0.09397673],\n",
       "       [0.09732299],\n",
       "       [0.09604078],\n",
       "       [0.09482112],\n",
       "       [0.105673  ],\n",
       "       [0.10192019]])"
      ]
     },
     "execution_count": 17,
     "metadata": {},
     "output_type": "execute_result"
    }
   ],
   "source": [
    "y_test"
   ]
  },
  {
   "cell_type": "code",
   "execution_count": 18,
   "id": "4a2f32a7",
   "metadata": {},
   "outputs": [
    {
     "name": "stdout",
     "output_type": "stream",
     "text": [
      "      Close\n",
      "0  0.101889\n",
      "1  0.103202\n",
      "2  0.103202\n",
      "3  0.100419\n",
      "4  0.099137\n"
     ]
    }
   ],
   "source": [
    "\n",
    "# Assuming you have already defined y_test and column variables\n",
    "# y_test should be a one-dimensional array or list\n",
    "# column should be the column name or index of the column to be extracted\n",
    "\n",
    "# Convert y_test to a DataFrame with a column named 'Close'\n",
    "aTestNormTable = pd.DataFrame({'Close': np.array(y_test).flatten()})\n",
    "\n",
    "# Now aTestNormTable contains the converted table\n",
    "# You can use it as needed in your code\n",
    "print(aTestNormTable.head())\n",
    "\n"
   ]
  },
  {
   "cell_type": "code",
   "execution_count": 19,
   "id": "59016262",
   "metadata": {},
   "outputs": [],
   "source": [
    "actual_stock_price_test_ori=Ms.inverse_transform(aTestNormTable)"
   ]
  },
  {
   "cell_type": "code",
   "execution_count": 20,
   "id": "b394a59f",
   "metadata": {},
   "outputs": [
    {
     "data": {
      "text/plain": [
       "array([[212.3 ],\n",
       "       [214.4 ],\n",
       "       [214.4 ],\n",
       "       [209.95],\n",
       "       [207.9 ],\n",
       "       [211.8 ],\n",
       "       [213.55],\n",
       "       [212.8 ],\n",
       "       [215.85],\n",
       "       [216.05],\n",
       "       [218.75],\n",
       "       [220.55],\n",
       "       [219.7 ],\n",
       "       [220.7 ],\n",
       "       [225.6 ],\n",
       "       [224.8 ],\n",
       "       [228.85],\n",
       "       [225.4 ],\n",
       "       [213.85],\n",
       "       [217.3 ],\n",
       "       [216.6 ],\n",
       "       [216.7 ],\n",
       "       [208.05],\n",
       "       [199.4 ],\n",
       "       [202.85],\n",
       "       [204.5 ],\n",
       "       [205.35],\n",
       "       [204.35],\n",
       "       [202.5 ],\n",
       "       [212.4 ],\n",
       "       [213.5 ],\n",
       "       [212.8 ],\n",
       "       [216.45],\n",
       "       [214.65],\n",
       "       [212.95],\n",
       "       [211.1 ],\n",
       "       [207.8 ],\n",
       "       [204.25],\n",
       "       [194.55],\n",
       "       [199.65],\n",
       "       [205.  ],\n",
       "       [202.95],\n",
       "       [201.  ],\n",
       "       [218.35],\n",
       "       [212.35]])"
      ]
     },
     "execution_count": 20,
     "metadata": {},
     "output_type": "execute_result"
    }
   ],
   "source": [
    "actual_stock_price_test_ori"
   ]
  },
  {
   "cell_type": "code",
   "execution_count": 21,
   "id": "ca8dfb08",
   "metadata": {},
   "outputs": [],
   "source": [
    "actual_stock_price_test_ori_flat = np.ravel(actual_stock_price_test_ori)\n",
    "\n",
    "# Create a DataFrame with a column named 'Close' using the flattened array\n",
    "actual_stock_price_test_oriA = pd.DataFrame({'Close': actual_stock_price_test_ori_flat})\n",
    "\n"
   ]
  },
  {
   "cell_type": "code",
   "execution_count": 22,
   "id": "ffa4bafe",
   "metadata": {},
   "outputs": [
    {
     "data": {
      "text/html": [
       "<div>\n",
       "<style scoped>\n",
       "    .dataframe tbody tr th:only-of-type {\n",
       "        vertical-align: middle;\n",
       "    }\n",
       "\n",
       "    .dataframe tbody tr th {\n",
       "        vertical-align: top;\n",
       "    }\n",
       "\n",
       "    .dataframe thead th {\n",
       "        text-align: right;\n",
       "    }\n",
       "</style>\n",
       "<table border=\"1\" class=\"dataframe\">\n",
       "  <thead>\n",
       "    <tr style=\"text-align: right;\">\n",
       "      <th></th>\n",
       "      <th>Close</th>\n",
       "    </tr>\n",
       "  </thead>\n",
       "  <tbody>\n",
       "    <tr>\n",
       "      <th>0</th>\n",
       "      <td>212.30</td>\n",
       "    </tr>\n",
       "    <tr>\n",
       "      <th>1</th>\n",
       "      <td>214.40</td>\n",
       "    </tr>\n",
       "    <tr>\n",
       "      <th>2</th>\n",
       "      <td>214.40</td>\n",
       "    </tr>\n",
       "    <tr>\n",
       "      <th>3</th>\n",
       "      <td>209.95</td>\n",
       "    </tr>\n",
       "    <tr>\n",
       "      <th>4</th>\n",
       "      <td>207.90</td>\n",
       "    </tr>\n",
       "    <tr>\n",
       "      <th>5</th>\n",
       "      <td>211.80</td>\n",
       "    </tr>\n",
       "    <tr>\n",
       "      <th>6</th>\n",
       "      <td>213.55</td>\n",
       "    </tr>\n",
       "    <tr>\n",
       "      <th>7</th>\n",
       "      <td>212.80</td>\n",
       "    </tr>\n",
       "    <tr>\n",
       "      <th>8</th>\n",
       "      <td>215.85</td>\n",
       "    </tr>\n",
       "    <tr>\n",
       "      <th>9</th>\n",
       "      <td>216.05</td>\n",
       "    </tr>\n",
       "    <tr>\n",
       "      <th>10</th>\n",
       "      <td>218.75</td>\n",
       "    </tr>\n",
       "    <tr>\n",
       "      <th>11</th>\n",
       "      <td>220.55</td>\n",
       "    </tr>\n",
       "    <tr>\n",
       "      <th>12</th>\n",
       "      <td>219.70</td>\n",
       "    </tr>\n",
       "    <tr>\n",
       "      <th>13</th>\n",
       "      <td>220.70</td>\n",
       "    </tr>\n",
       "    <tr>\n",
       "      <th>14</th>\n",
       "      <td>225.60</td>\n",
       "    </tr>\n",
       "    <tr>\n",
       "      <th>15</th>\n",
       "      <td>224.80</td>\n",
       "    </tr>\n",
       "    <tr>\n",
       "      <th>16</th>\n",
       "      <td>228.85</td>\n",
       "    </tr>\n",
       "    <tr>\n",
       "      <th>17</th>\n",
       "      <td>225.40</td>\n",
       "    </tr>\n",
       "    <tr>\n",
       "      <th>18</th>\n",
       "      <td>213.85</td>\n",
       "    </tr>\n",
       "    <tr>\n",
       "      <th>19</th>\n",
       "      <td>217.30</td>\n",
       "    </tr>\n",
       "    <tr>\n",
       "      <th>20</th>\n",
       "      <td>216.60</td>\n",
       "    </tr>\n",
       "    <tr>\n",
       "      <th>21</th>\n",
       "      <td>216.70</td>\n",
       "    </tr>\n",
       "    <tr>\n",
       "      <th>22</th>\n",
       "      <td>208.05</td>\n",
       "    </tr>\n",
       "    <tr>\n",
       "      <th>23</th>\n",
       "      <td>199.40</td>\n",
       "    </tr>\n",
       "    <tr>\n",
       "      <th>24</th>\n",
       "      <td>202.85</td>\n",
       "    </tr>\n",
       "    <tr>\n",
       "      <th>25</th>\n",
       "      <td>204.50</td>\n",
       "    </tr>\n",
       "    <tr>\n",
       "      <th>26</th>\n",
       "      <td>205.35</td>\n",
       "    </tr>\n",
       "    <tr>\n",
       "      <th>27</th>\n",
       "      <td>204.35</td>\n",
       "    </tr>\n",
       "    <tr>\n",
       "      <th>28</th>\n",
       "      <td>202.50</td>\n",
       "    </tr>\n",
       "    <tr>\n",
       "      <th>29</th>\n",
       "      <td>212.40</td>\n",
       "    </tr>\n",
       "    <tr>\n",
       "      <th>30</th>\n",
       "      <td>213.50</td>\n",
       "    </tr>\n",
       "    <tr>\n",
       "      <th>31</th>\n",
       "      <td>212.80</td>\n",
       "    </tr>\n",
       "    <tr>\n",
       "      <th>32</th>\n",
       "      <td>216.45</td>\n",
       "    </tr>\n",
       "    <tr>\n",
       "      <th>33</th>\n",
       "      <td>214.65</td>\n",
       "    </tr>\n",
       "    <tr>\n",
       "      <th>34</th>\n",
       "      <td>212.95</td>\n",
       "    </tr>\n",
       "    <tr>\n",
       "      <th>35</th>\n",
       "      <td>211.10</td>\n",
       "    </tr>\n",
       "    <tr>\n",
       "      <th>36</th>\n",
       "      <td>207.80</td>\n",
       "    </tr>\n",
       "    <tr>\n",
       "      <th>37</th>\n",
       "      <td>204.25</td>\n",
       "    </tr>\n",
       "    <tr>\n",
       "      <th>38</th>\n",
       "      <td>194.55</td>\n",
       "    </tr>\n",
       "    <tr>\n",
       "      <th>39</th>\n",
       "      <td>199.65</td>\n",
       "    </tr>\n",
       "    <tr>\n",
       "      <th>40</th>\n",
       "      <td>205.00</td>\n",
       "    </tr>\n",
       "    <tr>\n",
       "      <th>41</th>\n",
       "      <td>202.95</td>\n",
       "    </tr>\n",
       "    <tr>\n",
       "      <th>42</th>\n",
       "      <td>201.00</td>\n",
       "    </tr>\n",
       "    <tr>\n",
       "      <th>43</th>\n",
       "      <td>218.35</td>\n",
       "    </tr>\n",
       "    <tr>\n",
       "      <th>44</th>\n",
       "      <td>212.35</td>\n",
       "    </tr>\n",
       "  </tbody>\n",
       "</table>\n",
       "</div>"
      ],
      "text/plain": [
       "     Close\n",
       "0   212.30\n",
       "1   214.40\n",
       "2   214.40\n",
       "3   209.95\n",
       "4   207.90\n",
       "5   211.80\n",
       "6   213.55\n",
       "7   212.80\n",
       "8   215.85\n",
       "9   216.05\n",
       "10  218.75\n",
       "11  220.55\n",
       "12  219.70\n",
       "13  220.70\n",
       "14  225.60\n",
       "15  224.80\n",
       "16  228.85\n",
       "17  225.40\n",
       "18  213.85\n",
       "19  217.30\n",
       "20  216.60\n",
       "21  216.70\n",
       "22  208.05\n",
       "23  199.40\n",
       "24  202.85\n",
       "25  204.50\n",
       "26  205.35\n",
       "27  204.35\n",
       "28  202.50\n",
       "29  212.40\n",
       "30  213.50\n",
       "31  212.80\n",
       "32  216.45\n",
       "33  214.65\n",
       "34  212.95\n",
       "35  211.10\n",
       "36  207.80\n",
       "37  204.25\n",
       "38  194.55\n",
       "39  199.65\n",
       "40  205.00\n",
       "41  202.95\n",
       "42  201.00\n",
       "43  218.35\n",
       "44  212.35"
      ]
     },
     "execution_count": 22,
     "metadata": {},
     "output_type": "execute_result"
    }
   ],
   "source": [
    "actual_stock_price_test_oriA"
   ]
  },
  {
   "cell_type": "code",
   "execution_count": 23,
   "id": "f775803e",
   "metadata": {},
   "outputs": [],
   "source": [
    "y_test_series = pd.Series(y_test.flatten())  # Use flatten() to ensure y_test is 1-dimensional\n",
    "\n",
    "# Convert y_test_series to a DataFrame with a column named 'Close'\n",
    "aTestNormTable = pd.DataFrame({'Close': y_test_series})\n",
    "\n",
    "# Convert actual_stock_price_test_ori to a pandas Series\n",
    "actual_stock_price_test_ori_series = pd.Series(actual_stock_price_test_ori.flatten())  # Use flatten() to ensure actual_stock_price_test_ori is 1-dimensional\n",
    "\n",
    "# Convert actual_stock_price_test_ori_series to a DataFrame with a column named 'Close'\n",
    "actual_stock_price_test_oriA = pd.DataFrame({'Close': actual_stock_price_test_ori_series})\n",
    "\n",
    "# If you want to rescale 'Close' column back to its original values using the MinMaxScaler\n",
    "Ms = MinMaxScaler()\n",
    "Ms.fit(actual_stock_price_test_oriA[['Close']])  # Fit the scaler on the original data\n",
    "actual_stock_price_test_oriA[['Close']] = Ms.inverse_transform(actual_stock_price_test_oriA[['Close']])\n",
    "\n",
    "# Now aTestNormTable and actual_stock_price_test_oriA contain the converted tables\n",
    "# You can use them as needed in your code\n",
    "#print(aTestNormTable)\n",
    "#print(actual_stock_price_test_oriA)"
   ]
  },
  {
   "cell_type": "code",
   "execution_count": 26,
   "id": "cb10873b",
   "metadata": {},
   "outputs": [
    {
     "name": "stdout",
     "output_type": "stream",
     "text": [
      "       Close\n",
      "0   0.105487\n",
      "1   0.105154\n",
      "2   0.104829\n",
      "3   0.104460\n",
      "4   0.104089\n",
      "5   0.103718\n",
      "6   0.103350\n",
      "7   0.102982\n",
      "8   0.102616\n",
      "9   0.102251\n",
      "10  0.101887\n",
      "11  0.101524\n",
      "12  0.101162\n",
      "13  0.100801\n",
      "14  0.100441\n",
      "15  0.100082\n",
      "16  0.099725\n",
      "17  0.099368\n",
      "18  0.099013\n",
      "19  0.098658\n",
      "20  0.098305\n",
      "21  0.097952\n",
      "22  0.097601\n",
      "23  0.097251\n",
      "24  0.096902\n",
      "25  0.096553\n",
      "26  0.096206\n",
      "27  0.095860\n",
      "28  0.095515\n",
      "29  0.095171\n",
      "30  0.094828\n",
      "31  0.094486\n",
      "32  0.094145\n",
      "33  0.093805\n",
      "34  0.093466\n",
      "35  0.093128\n",
      "36  0.092790\n",
      "37  0.092454\n",
      "38  0.092119\n",
      "39  0.091785\n",
      "40  0.091452\n",
      "41  0.091120\n",
      "42  0.090789\n",
      "43  0.090459\n",
      "44  0.090129\n",
      "       Close\n",
      "0   0.093050\n",
      "1   0.093043\n",
      "2   0.093036\n",
      "3   0.093028\n",
      "4   0.093020\n",
      "5   0.093012\n",
      "6   0.093004\n",
      "7   0.092996\n",
      "8   0.092988\n",
      "9   0.092980\n",
      "10  0.092973\n",
      "11  0.092965\n",
      "12  0.092957\n",
      "13  0.092949\n",
      "14  0.092942\n",
      "15  0.092934\n",
      "16  0.092926\n",
      "17  0.092919\n",
      "18  0.092911\n",
      "19  0.092903\n",
      "20  0.092896\n",
      "21  0.092888\n",
      "22  0.092881\n",
      "23  0.092873\n",
      "24  0.092866\n",
      "25  0.092858\n",
      "26  0.092851\n",
      "27  0.092843\n",
      "28  0.092836\n",
      "29  0.092829\n",
      "30  0.092821\n",
      "31  0.092814\n",
      "32  0.092807\n",
      "33  0.092799\n",
      "34  0.092792\n",
      "35  0.092785\n",
      "36  0.092778\n",
      "37  0.092770\n",
      "38  0.092763\n",
      "39  0.092756\n",
      "40  0.092749\n",
      "41  0.092742\n",
      "42  0.092735\n",
      "43  0.092728\n",
      "44  0.092720\n"
     ]
    }
   ],
   "source": [
    "import pandas as pd\n",
    "import numpy as np\n",
    "from sklearn.preprocessing import MinMaxScaler\n",
    "\n",
    "# Assuming you have already defined y_pred, column, and X_test variables\n",
    "# y_pred should be a one-dimensional array or list\n",
    "# column should be the column name to be extracted from X_test\n",
    "# X_test should be a two-dimensional array\n",
    "\n",
    "# Convert y_pred to a pandas Series\n",
    "y_pred_series = pd.Series(y_pred)\n",
    "\n",
    "# Convert y_pred_series to a DataFrame with a column named 'Close'\n",
    "pTestNormTable = pd.DataFrame({'Close': y_pred_series})\n",
    "\n",
    "# If you want to rescale 'Close' column back to its original values using the MinMaxScaler\n",
    "Ms = MinMaxScaler()\n",
    "\n",
    "# Fit the scaler on the original data\n",
    "column_index = X_test.shape[1] - 1  # Assuming 'Close' column is the last column in X_test\n",
    "Ms.fit(X_test[:, column_index].reshape(-1, 1))\n",
    "\n",
    "# Inverse transform the predicted values\n",
    "predicted_stock_price_test_ori = Ms.inverse_transform(pTestNormTable)\n",
    "\n",
    "# Convert the resulting NumPy array back to a pandas DataFrame\n",
    "predicted_stock_price_test_oriP = pd.DataFrame({'Close': predicted_stock_price_test_ori.flatten()})\n",
    "\n",
    "# Now pTestNormTable and predicted_stock_price_test_oriP contain the converted tables\n",
    "# You can use them as needed in your code\n",
    "print(pTestNormTable)\n",
    "print(predicted_stock_price_test_oriP)\n"
   ]
  },
  {
   "cell_type": "code",
   "execution_count": 27,
   "id": "024d2a53",
   "metadata": {},
   "outputs": [
    {
     "data": {
      "image/png": "[encoded data removed]",
      "text/plain": [
       "<Figure size 1000x600 with 1 Axes>"
      ]
     },
     "metadata": {},
     "output_type": "display_data"
    }
   ],
   "source": [
    "import matplotlib.pyplot as plt\n",
    "\n",
    "plt.figure(figsize=(10, 6))\n",
    "plt.plot(actual_stock_price_test_oriA, label='Actual')\n",
    "plt.plot(predicted_stock_price_test_oriP, label='Predicted')\n",
    "plt.xlabel('Days')\n",
    "plt.ylabel('Prices')\n",
    "plt.title('TataCoffee Close Price - AR(Original)')\n",
    "plt.legend()\n",
    "plt.show()\n"
   ]
  },
  {
   "cell_type": "code",
   "execution_count": 28,
   "id": "87cad6a6",
   "metadata": {},
   "outputs": [],
   "source": [
    "import numpy as np\n",
    "\n",
    "def rmsemape(y_true, y_pred):\n",
    "    mse = np.mean((y_true - y_pred) ** 2)\n",
    "    rmse = np.sqrt(mse)\n",
    "    mape = np.mean(np.abs((y_true - y_pred) / y_true)) * 100\n",
    "    return rmse, mape\n",
    "\n",
    "rmse, mape = rmsemape(actual_stock_price_test_oriA, predicted_stock_price_test_oriP)\n",
    "#print(\"RMSE:\", rmse['Close'])\n",
    "#print(\"MAPE: {:.2f}%\".format(mape['Close']))\n"
   ]
  },
  {
   "cell_type": "code",
   "execution_count": 29,
   "id": "e9e5ff09",
   "metadata": {},
   "outputs": [],
   "source": [
    "forecast=model_fit.predict(len(data1), len(data1)+3)"
   ]
  },
  {
   "cell_type": "code",
   "execution_count": 30,
   "id": "b4bb25ca",
   "metadata": {},
   "outputs": [
    {
     "data": {
      "text/plain": [
       "array([0.08980108, 0.08947376, 0.08914739, 0.08882198])"
      ]
     },
     "execution_count": 30,
     "metadata": {},
     "output_type": "execute_result"
    }
   ],
   "source": [
    "forecast"
   ]
  },
  {
   "cell_type": "code",
   "execution_count": 31,
   "id": "cd63b192",
   "metadata": {},
   "outputs": [],
   "source": [
    "# Convert forecast to a DataFrame with a column named 'Closefore'\n",
    "fTestNormTable = pd.DataFrame({'Closefore': forecast})\n",
    "\n",
    "# If you want to rescale 'Closefore' column back to its original values using the MinMaxScaler\n",
    "Ms = MinMaxScaler()\n",
    "Ms.fit(fTestNormTable[['Closefore']].values.reshape(-1, 1))  # Fit the scaler on the original data\n",
    "forecast_stock_price_test_ori = Ms.inverse_transform(fTestNormTable[['Closefore']])\n",
    "\n",
    "# Now forecast_stock_price_test_ori contains the converted forecast values\n",
    "\n",
    "# If you want to convert forecast_stock_price_test_ori back to a DataFrame with a column named 'Closefore'\n",
    "forecast_stock_price_test_oriF = pd.DataFrame({'Closefore': forecast_stock_price_test_ori[:, 0]})\n"
   ]
  },
  {
   "cell_type": "code",
   "execution_count": 32,
   "id": "e89d82d4",
   "metadata": {},
   "outputs": [
    {
     "data": {
      "text/html": [
       "<div>\n",
       "<style scoped>\n",
       "    .dataframe tbody tr th:only-of-type {\n",
       "        vertical-align: middle;\n",
       "    }\n",
       "\n",
       "    .dataframe tbody tr th {\n",
       "        vertical-align: top;\n",
       "    }\n",
       "\n",
       "    .dataframe thead th {\n",
       "        text-align: right;\n",
       "    }\n",
       "</style>\n",
       "<table border=\"1\" class=\"dataframe\">\n",
       "  <thead>\n",
       "    <tr style=\"text-align: right;\">\n",
       "      <th></th>\n",
       "      <th>Closefore</th>\n",
       "    </tr>\n",
       "  </thead>\n",
       "  <tbody>\n",
       "    <tr>\n",
       "      <th>0</th>\n",
       "      <td>0.088910</td>\n",
       "    </tr>\n",
       "    <tr>\n",
       "      <th>1</th>\n",
       "      <td>0.088910</td>\n",
       "    </tr>\n",
       "    <tr>\n",
       "      <th>2</th>\n",
       "      <td>0.088909</td>\n",
       "    </tr>\n",
       "    <tr>\n",
       "      <th>3</th>\n",
       "      <td>0.088909</td>\n",
       "    </tr>\n",
       "  </tbody>\n",
       "</table>\n",
       "</div>"
      ],
      "text/plain": [
       "   Closefore\n",
       "0   0.088910\n",
       "1   0.088910\n",
       "2   0.088909\n",
       "3   0.088909"
      ]
     },
     "execution_count": 32,
     "metadata": {},
     "output_type": "execute_result"
    }
   ],
   "source": [
    "forecast_stock_price_test_oriF"
   ]
  },
  {
   "cell_type": "code",
   "execution_count": 33,
   "id": "6273d5a9",
   "metadata": {},
   "outputs": [],
   "source": [
    "forecast_stock_price_test_oriF.to_csv(\"CloseAR.csv\",index=False)"
   ]
  },
  {
   "cell_type": "code",
   "execution_count": 34,
   "id": "d3b0a4c4",
   "metadata": {},
   "outputs": [
    {
     "data": {
      "text/plain": [
       "[<matplotlib.lines.Line2D at 0x29ed6664b08>]"
      ]
     },
     "execution_count": 34,
     "metadata": {},
     "output_type": "execute_result"
    },
    {
     "data": {
      "image/png": "[encoded data removed]",
      "text/plain": [
       "<Figure size 1000x500 with 1 Axes>"
      ]
     },
     "metadata": {},
     "output_type": "display_data"
    }
   ],
   "source": [
    "import matplotlib.pyplot as plt\n",
    "plt.figure(figsize=(10,5))\n",
    "plt.plot(actual_stock_price_test_oriA[2000:2225], color = 'blue', label=\"Actual\")\n",
    "plt.plot(forecast_stock_price_test_oriF, color = 'red', label =\"Predicted\")"
   ]
  },
  {
   "cell_type": "code",
   "execution_count": null,
   "id": "87404a12",
   "metadata": {},
   "outputs": [],
   "source": []
  },
  {
   "cell_type": "code",
   "execution_count": null,
   "id": "c0659d71",
   "metadata": {},
   "outputs": [],
   "source": []
  },
  {
   "cell_type": "code",
   "execution_count": null,
   "id": "11286e2e",
   "metadata": {},
   "outputs": [],
   "source": []
  }
 ],
 "metadata": {
  "kernelspec": {
   "display_name": "Python 3 (ipykernel)",
   "language": "python",
   "name": "python3"
  },
  "language_info": {
   "codemirror_mode": {
    "name": "ipython",
    "version": 3
   },
   "file_extension": ".py",
   "mimetype": "text/x-python",
   "name": "python",
   "nbconvert_exporter": "python",
   "pygments_lexer": "ipython3",
   "version": "3.7.6"
  }
 },
 "nbformat": 4,
 "nbformat_minor": 5
}
