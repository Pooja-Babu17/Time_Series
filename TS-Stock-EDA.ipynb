{
 "cells": [
  {
   "cell_type": "code",
   "execution_count": 1,
   "metadata": {},
   "outputs": [
    {
     "name": "stderr",
     "output_type": "stream",
     "text": [
      "D:\\ANACONDA\\ANA\\envs\\aiworks\\lib\\site-packages\\numpy\\_distributor_init.py:32: UserWarning: loaded more than 1 DLL from .libs:\n",
      "D:\\ANACONDA\\ANA\\envs\\aiworks\\lib\\site-packages\\numpy\\.libs\\libopenblas.WCDJNK7YVMPZQ2ME2ZZHJJRJ3JIKNDB7.gfortran-win_amd64.dll\n",
      "D:\\ANACONDA\\ANA\\envs\\aiworks\\lib\\site-packages\\numpy\\.libs\\libopenblas.XWYDX2IKJW2NMTWSFYNGFUWKQU3LYTCZ.gfortran-win_amd64.dll\n",
      "  stacklevel=1)\n"
     ]
    }
   ],
   "source": [
    "from Descriptive import Descriptive"
   ]
  },
  {
   "cell_type": "code",
   "execution_count": 2,
   "metadata": {},
   "outputs": [],
   "source": [
    "obj=Descriptive()"
   ]
  },
  {
   "cell_type": "code",
   "execution_count": 3,
   "metadata": {},
   "outputs": [],
   "source": [
    "import pandas as pd\n",
    "from nsepy import get_history as gh\n",
    "import datetime as dt\n",
    "stk_data = pd.read_csv(\"Tatacoffee13_21.csv\")\n",
    "stk_data['Date'] = pd.to_datetime(stk_data['Date'])\n",
    "# Filter data for the specified date range\n",
    "start_date = dt.datetime(2021, 9, 1)\n",
    "end_date = dt.datetime(2022, 2, 4)\n",
    "filtered_data = stk_data[(stk_data['Date'] >= start_date) & (stk_data['Date'] <= end_date)]\n"
   ]
  },
  {
   "cell_type": "code",
   "execution_count": 7,
   "metadata": {},
   "outputs": [
    {
     "data": {
      "text/html": [
       "<div>\n",
       "<style scoped>\n",
       "    .dataframe tbody tr th:only-of-type {\n",
       "        vertical-align: middle;\n",
       "    }\n",
       "\n",
       "    .dataframe tbody tr th {\n",
       "        vertical-align: top;\n",
       "    }\n",
       "\n",
       "    .dataframe thead th {\n",
       "        text-align: right;\n",
       "    }\n",
       "</style>\n",
       "<table border=\"1\" class=\"dataframe\">\n",
       "  <thead>\n",
       "    <tr style=\"text-align: right;\">\n",
       "      <th></th>\n",
       "      <th>Date</th>\n",
       "      <th>Open</th>\n",
       "      <th>High</th>\n",
       "      <th>Low</th>\n",
       "      <th>Close</th>\n",
       "    </tr>\n",
       "  </thead>\n",
       "  <tbody>\n",
       "    <tr>\n",
       "      <th>2144</th>\n",
       "      <td>2021-09-01</td>\n",
       "      <td>214.00</td>\n",
       "      <td>214.25</td>\n",
       "      <td>207.90</td>\n",
       "      <td>211.10</td>\n",
       "    </tr>\n",
       "    <tr>\n",
       "      <th>2145</th>\n",
       "      <td>2021-09-02</td>\n",
       "      <td>211.90</td>\n",
       "      <td>213.75</td>\n",
       "      <td>208.70</td>\n",
       "      <td>209.50</td>\n",
       "    </tr>\n",
       "    <tr>\n",
       "      <th>2146</th>\n",
       "      <td>2021-09-03</td>\n",
       "      <td>210.00</td>\n",
       "      <td>211.25</td>\n",
       "      <td>206.40</td>\n",
       "      <td>207.60</td>\n",
       "    </tr>\n",
       "    <tr>\n",
       "      <th>2147</th>\n",
       "      <td>2021-09-06</td>\n",
       "      <td>207.60</td>\n",
       "      <td>209.50</td>\n",
       "      <td>203.20</td>\n",
       "      <td>204.10</td>\n",
       "    </tr>\n",
       "    <tr>\n",
       "      <th>2148</th>\n",
       "      <td>2021-09-07</td>\n",
       "      <td>211.35</td>\n",
       "      <td>217.00</td>\n",
       "      <td>209.60</td>\n",
       "      <td>212.45</td>\n",
       "    </tr>\n",
       "    <tr>\n",
       "      <th>...</th>\n",
       "      <td>...</td>\n",
       "      <td>...</td>\n",
       "      <td>...</td>\n",
       "      <td>...</td>\n",
       "      <td>...</td>\n",
       "    </tr>\n",
       "    <tr>\n",
       "      <th>2220</th>\n",
       "      <td>2021-12-22</td>\n",
       "      <td>202.90</td>\n",
       "      <td>207.80</td>\n",
       "      <td>201.35</td>\n",
       "      <td>205.00</td>\n",
       "    </tr>\n",
       "    <tr>\n",
       "      <th>2221</th>\n",
       "      <td>2021-12-23</td>\n",
       "      <td>206.00</td>\n",
       "      <td>206.85</td>\n",
       "      <td>202.05</td>\n",
       "      <td>202.95</td>\n",
       "    </tr>\n",
       "    <tr>\n",
       "      <th>2222</th>\n",
       "      <td>2021-12-24</td>\n",
       "      <td>203.90</td>\n",
       "      <td>203.90</td>\n",
       "      <td>199.35</td>\n",
       "      <td>201.00</td>\n",
       "    </tr>\n",
       "    <tr>\n",
       "      <th>2223</th>\n",
       "      <td>2021-12-27</td>\n",
       "      <td>200.00</td>\n",
       "      <td>222.00</td>\n",
       "      <td>196.00</td>\n",
       "      <td>218.35</td>\n",
       "    </tr>\n",
       "    <tr>\n",
       "      <th>2224</th>\n",
       "      <td>2021-12-28</td>\n",
       "      <td>219.65</td>\n",
       "      <td>220.45</td>\n",
       "      <td>211.55</td>\n",
       "      <td>212.35</td>\n",
       "    </tr>\n",
       "  </tbody>\n",
       "</table>\n",
       "<p>81 rows × 5 columns</p>\n",
       "</div>"
      ],
      "text/plain": [
       "           Date    Open    High     Low   Close\n",
       "2144 2021-09-01  214.00  214.25  207.90  211.10\n",
       "2145 2021-09-02  211.90  213.75  208.70  209.50\n",
       "2146 2021-09-03  210.00  211.25  206.40  207.60\n",
       "2147 2021-09-06  207.60  209.50  203.20  204.10\n",
       "2148 2021-09-07  211.35  217.00  209.60  212.45\n",
       "...         ...     ...     ...     ...     ...\n",
       "2220 2021-12-22  202.90  207.80  201.35  205.00\n",
       "2221 2021-12-23  206.00  206.85  202.05  202.95\n",
       "2222 2021-12-24  203.90  203.90  199.35  201.00\n",
       "2223 2021-12-27  200.00  222.00  196.00  218.35\n",
       "2224 2021-12-28  219.65  220.45  211.55  212.35\n",
       "\n",
       "[81 rows x 5 columns]"
      ]
     },
     "execution_count": 7,
     "metadata": {},
     "output_type": "execute_result"
    }
   ],
   "source": [
    "filtered_data"
   ]
  },
  {
   "cell_type": "code",
   "execution_count": 8,
   "metadata": {},
   "outputs": [
    {
     "name": "stdout",
     "output_type": "stream",
     "text": [
      "<class 'pandas.core.frame.DataFrame'>\n",
      "Int64Index: 81 entries, 2144 to 2224\n",
      "Data columns (total 5 columns):\n",
      " #   Column  Non-Null Count  Dtype         \n",
      "---  ------  --------------  -----         \n",
      " 0   Date    81 non-null     datetime64[ns]\n",
      " 1   Open    81 non-null     float64       \n",
      " 2   High    81 non-null     float64       \n",
      " 3   Low     81 non-null     float64       \n",
      " 4   Close   81 non-null     float64       \n",
      "dtypes: datetime64[ns](1), float64(4)\n",
      "memory usage: 3.8 KB\n"
     ]
    }
   ],
   "source": [
    "filtered_data.info()"
   ]
  },
  {
   "cell_type": "code",
   "execution_count": 9,
   "metadata": {},
   "outputs": [],
   "source": [
    "low=filtered_data[\"Low\"]"
   ]
  },
  {
   "cell_type": "code",
   "execution_count": 10,
   "metadata": {},
   "outputs": [
    {
     "name": "stdout",
     "output_type": "stream",
     "text": [
      "The Quantitative Data: ['Date', 'Open', 'High', 'Low', 'Close']\n",
      "The Qualtitative Data []\n"
     ]
    }
   ],
   "source": [
    "dataset=filtered_data\n",
    "quan,qual=obj.segreQuanQual(dataset)"
   ]
  },
  {
   "cell_type": "code",
   "execution_count": 13,
   "metadata": {},
   "outputs": [],
   "source": [
    "import pandas as pd\n",
    "\n",
    "class Descriptive:\n",
    "\n",
    "    def descriptive_Analysis(self, dataset, quantative):\n",
    "        des_data = pd.DataFrame(index=[\"Null_count\", \"NonNull_count\", \"Total_Count\", \"Mean\", \"Median\", \"Mode\", \"Std\", \"Min\", \"Q1:25%\", \"Q2:50%\", \"Q3:75%\", \"Q4:100%\", \"IQR\", \"1.5Rule\",\n",
    "                                       \"Lesser\", \"Greater\"], columns=quantative)\n",
    "\n",
    "        for i in quantative:\n",
    "            des_data[i][\"Null_count\"] = dataset[i].isnull().sum()\n",
    "            des_data[i][\"NonNull_count\"] = dataset[i].count()\n",
    "            des_data[i][\"Total_Count\"] = len(dataset[i])\n",
    "            des_data[i][\"Mean\"] = dataset[i].mean()\n",
    "            des_data[i][\"Median\"] = dataset[i].median()\n",
    "            des_data[i][\"Mode\"] = dataset[i].mode()[0]\n",
    "            des_data[i][\"Std\"] = dataset[i].std()  \n",
    "            des_data[i][\"Min\"] = dataset[i].min()\n",
    "            des_data[i][\"Q1:25%\"] = dataset[i].quantile(0.25)\n",
    "            des_data[i][\"Q2:50%\"] = dataset[i].quantile(0.50)\n",
    "            des_data[i][\"Q3:75%\"] = dataset[i].quantile(0.75)\n",
    "            des_data[i][\"Q4:100%\"] = dataset[i].max()\n",
    "            des_data[i][\"IQR\"] = des_data[i][\"Q3:75%\"] - des_data[i][\"Q1:25%\"]\n",
    "            des_data[i][\"1.5Rule\"] = 1.5 * des_data[i][\"IQR\"]\n",
    "            des_data[i][\"Lesser\"] = des_data[i][\"Q1:25%\"] - des_data[i][\"1.5Rule\"]\n",
    "            des_data[i][\"Greater\"] = des_data[i][\"Q3:75%\"] + des_data[i][\"1.5Rule\"]\n",
    "\n",
    "        return des_data\n"
   ]
  },
  {
   "cell_type": "code",
   "execution_count": 18,
   "metadata": {},
   "outputs": [],
   "source": [
    "descriptive_instance = Descriptive()\n",
    "des_data= descriptive_instance.descriptive_Analysis(dataset, quan)"
   ]
  },
  {
   "cell_type": "code",
   "execution_count": 19,
   "metadata": {},
   "outputs": [
    {
     "data": {
      "text/html": [
       "<div>\n",
       "<style scoped>\n",
       "    .dataframe tbody tr th:only-of-type {\n",
       "        vertical-align: middle;\n",
       "    }\n",
       "\n",
       "    .dataframe tbody tr th {\n",
       "        vertical-align: top;\n",
       "    }\n",
       "\n",
       "    .dataframe thead th {\n",
       "        text-align: right;\n",
       "    }\n",
       "</style>\n",
       "<table border=\"1\" class=\"dataframe\">\n",
       "  <thead>\n",
       "    <tr style=\"text-align: right;\">\n",
       "      <th></th>\n",
       "      <th>Date</th>\n",
       "      <th>Open</th>\n",
       "      <th>High</th>\n",
       "      <th>Low</th>\n",
       "      <th>Close</th>\n",
       "    </tr>\n",
       "  </thead>\n",
       "  <tbody>\n",
       "    <tr>\n",
       "      <th>Null_count</th>\n",
       "      <td>0</td>\n",
       "      <td>0</td>\n",
       "      <td>0</td>\n",
       "      <td>0</td>\n",
       "      <td>0</td>\n",
       "    </tr>\n",
       "    <tr>\n",
       "      <th>NonNull_count</th>\n",
       "      <td>81</td>\n",
       "      <td>81</td>\n",
       "      <td>81</td>\n",
       "      <td>81</td>\n",
       "      <td>81</td>\n",
       "    </tr>\n",
       "    <tr>\n",
       "      <th>Total_Count</th>\n",
       "      <td>81</td>\n",
       "      <td>81</td>\n",
       "      <td>81</td>\n",
       "      <td>81</td>\n",
       "      <td>81</td>\n",
       "    </tr>\n",
       "    <tr>\n",
       "      <th>Mean</th>\n",
       "      <td>2021-10-30 06:31:06.666666752</td>\n",
       "      <td>213.412963</td>\n",
       "      <td>216.725926</td>\n",
       "      <td>209.511728</td>\n",
       "      <td>212.390741</td>\n",
       "    </tr>\n",
       "    <tr>\n",
       "      <th>Median</th>\n",
       "      <td>2021-10-29 00:00:00</td>\n",
       "      <td>213.0</td>\n",
       "      <td>214.7</td>\n",
       "      <td>207.95</td>\n",
       "      <td>212.3</td>\n",
       "    </tr>\n",
       "    <tr>\n",
       "      <th>Mode</th>\n",
       "      <td>2021-09-01 00:00:00</td>\n",
       "      <td>213.0</td>\n",
       "      <td>204.05</td>\n",
       "      <td>196.0</td>\n",
       "      <td>202.2</td>\n",
       "    </tr>\n",
       "    <tr>\n",
       "      <th>Std</th>\n",
       "      <td>34 days 20:47:17.705248027</td>\n",
       "      <td>9.322311</td>\n",
       "      <td>10.148024</td>\n",
       "      <td>8.614513</td>\n",
       "      <td>8.827872</td>\n",
       "    </tr>\n",
       "    <tr>\n",
       "      <th>Min</th>\n",
       "      <td>2021-09-01 00:00:00</td>\n",
       "      <td>196.0</td>\n",
       "      <td>200.0</td>\n",
       "      <td>190.3</td>\n",
       "      <td>194.55</td>\n",
       "    </tr>\n",
       "    <tr>\n",
       "      <th>Q1:25%</th>\n",
       "      <td>2021-09-30 00:00:00</td>\n",
       "      <td>206.0</td>\n",
       "      <td>208.9</td>\n",
       "      <td>203.4</td>\n",
       "      <td>205.35</td>\n",
       "    </tr>\n",
       "    <tr>\n",
       "      <th>Q2:50%</th>\n",
       "      <td>2021-10-29 00:00:00</td>\n",
       "      <td>213.0</td>\n",
       "      <td>214.7</td>\n",
       "      <td>207.95</td>\n",
       "      <td>212.3</td>\n",
       "    </tr>\n",
       "    <tr>\n",
       "      <th>Q3:75%</th>\n",
       "      <td>2021-11-30 00:00:00</td>\n",
       "      <td>218.0</td>\n",
       "      <td>221.5</td>\n",
       "      <td>214.5</td>\n",
       "      <td>216.85</td>\n",
       "    </tr>\n",
       "    <tr>\n",
       "      <th>Q4:100%</th>\n",
       "      <td>2021-12-28 00:00:00</td>\n",
       "      <td>241.0</td>\n",
       "      <td>254.4</td>\n",
       "      <td>231.25</td>\n",
       "      <td>235.8</td>\n",
       "    </tr>\n",
       "    <tr>\n",
       "      <th>IQR</th>\n",
       "      <td>61 days 00:00:00</td>\n",
       "      <td>12.0</td>\n",
       "      <td>12.6</td>\n",
       "      <td>11.1</td>\n",
       "      <td>11.5</td>\n",
       "    </tr>\n",
       "    <tr>\n",
       "      <th>1.5Rule</th>\n",
       "      <td>91 days 12:00:00</td>\n",
       "      <td>18.0</td>\n",
       "      <td>18.9</td>\n",
       "      <td>16.65</td>\n",
       "      <td>17.25</td>\n",
       "    </tr>\n",
       "    <tr>\n",
       "      <th>Lesser</th>\n",
       "      <td>2021-06-30 12:00:00</td>\n",
       "      <td>188.0</td>\n",
       "      <td>190.0</td>\n",
       "      <td>186.75</td>\n",
       "      <td>188.1</td>\n",
       "    </tr>\n",
       "    <tr>\n",
       "      <th>Greater</th>\n",
       "      <td>2022-03-01 12:00:00</td>\n",
       "      <td>236.0</td>\n",
       "      <td>240.4</td>\n",
       "      <td>231.15</td>\n",
       "      <td>234.1</td>\n",
       "    </tr>\n",
       "  </tbody>\n",
       "</table>\n",
       "</div>"
      ],
      "text/plain": [
       "                                        Date        Open        High  \\\n",
       "Null_count                                 0           0           0   \n",
       "NonNull_count                             81          81          81   \n",
       "Total_Count                               81          81          81   \n",
       "Mean           2021-10-30 06:31:06.666666752  213.412963  216.725926   \n",
       "Median                   2021-10-29 00:00:00       213.0       214.7   \n",
       "Mode                     2021-09-01 00:00:00       213.0      204.05   \n",
       "Std               34 days 20:47:17.705248027    9.322311   10.148024   \n",
       "Min                      2021-09-01 00:00:00       196.0       200.0   \n",
       "Q1:25%                   2021-09-30 00:00:00       206.0       208.9   \n",
       "Q2:50%                   2021-10-29 00:00:00       213.0       214.7   \n",
       "Q3:75%                   2021-11-30 00:00:00       218.0       221.5   \n",
       "Q4:100%                  2021-12-28 00:00:00       241.0       254.4   \n",
       "IQR                         61 days 00:00:00        12.0        12.6   \n",
       "1.5Rule                     91 days 12:00:00        18.0        18.9   \n",
       "Lesser                   2021-06-30 12:00:00       188.0       190.0   \n",
       "Greater                  2022-03-01 12:00:00       236.0       240.4   \n",
       "\n",
       "                      Low       Close  \n",
       "Null_count              0           0  \n",
       "NonNull_count          81          81  \n",
       "Total_Count            81          81  \n",
       "Mean           209.511728  212.390741  \n",
       "Median             207.95       212.3  \n",
       "Mode                196.0       202.2  \n",
       "Std              8.614513    8.827872  \n",
       "Min                 190.3      194.55  \n",
       "Q1:25%              203.4      205.35  \n",
       "Q2:50%             207.95       212.3  \n",
       "Q3:75%              214.5      216.85  \n",
       "Q4:100%            231.25       235.8  \n",
       "IQR                  11.1        11.5  \n",
       "1.5Rule             16.65       17.25  \n",
       "Lesser             186.75       188.1  \n",
       "Greater            231.15       234.1  "
      ]
     },
     "execution_count": 19,
     "metadata": {},
     "output_type": "execute_result"
    }
   ],
   "source": [
    "result"
   ]
  },
  {
   "cell_type": "code",
   "execution_count": 21,
   "metadata": {},
   "outputs": [
    {
     "data": {
      "text/plain": [
       "Null_count                0\n",
       "NonNull_count            81\n",
       "Total_Count              81\n",
       "Mean             209.511728\n",
       "Median               207.95\n",
       "Mode                  196.0\n",
       "Std                8.614513\n",
       "Min                   190.3\n",
       "Q1:25%                203.4\n",
       "Q2:50%               207.95\n",
       "Q3:75%                214.5\n",
       "Q4:100%              231.25\n",
       "IQR                    11.1\n",
       "1.5Rule               16.65\n",
       "Lesser               186.75\n",
       "Greater              231.15\n",
       "Name: Low, dtype: object"
      ]
     },
     "execution_count": 21,
     "metadata": {},
     "output_type": "execute_result"
    }
   ],
   "source": [
    "des_data[\"Low\"]"
   ]
  },
  {
   "cell_type": "code",
   "execution_count": 22,
   "metadata": {},
   "outputs": [
    {
     "data": {
      "text/plain": [
       "Null_count                0\n",
       "NonNull_count            81\n",
       "Total_Count              81\n",
       "Mean             216.725926\n",
       "Median                214.7\n",
       "Mode                 204.05\n",
       "Std               10.148024\n",
       "Min                   200.0\n",
       "Q1:25%                208.9\n",
       "Q2:50%                214.7\n",
       "Q3:75%                221.5\n",
       "Q4:100%               254.4\n",
       "IQR                    12.6\n",
       "1.5Rule                18.9\n",
       "Lesser                190.0\n",
       "Greater               240.4\n",
       "Name: High, dtype: object"
      ]
     },
     "execution_count": 22,
     "metadata": {},
     "output_type": "execute_result"
    }
   ],
   "source": [
    "des_data[\"High\"]"
   ]
  },
  {
   "cell_type": "code",
   "execution_count": 23,
   "metadata": {},
   "outputs": [],
   "source": [
    "import numpy as np"
   ]
  },
  {
   "cell_type": "code",
   "execution_count": 24,
   "metadata": {},
   "outputs": [
    {
     "data": {
      "text/plain": [
       "230.45"
      ]
     },
     "execution_count": 24,
     "metadata": {},
     "output_type": "execute_result"
    }
   ],
   "source": [
    "np.percentile(dataset[\"Low\"],99)"
   ]
  },
  {
   "cell_type": "code",
   "execution_count": 25,
   "metadata": {},
   "outputs": [
    {
     "data": {
      "text/plain": [
       "223.5"
      ]
     },
     "execution_count": 25,
     "metadata": {},
     "output_type": "execute_result"
    }
   ],
   "source": [
    "np.percentile(dataset[\"High\"],80)"
   ]
  },
  {
   "cell_type": "code",
   "execution_count": 26,
   "metadata": {},
   "outputs": [],
   "source": [
    "def get_pdf_probability(dataset,startrange,endrange):\n",
    "    from matplotlib import pyplot\n",
    "    from scipy.stats import norm\n",
    "    import seaborn as sns\n",
    "    ax = sns.distplot(dataset,kde=True,kde_kws={'color':'blue'},color='Green')\n",
    "    pyplot.axvline(startrange,color='Red')\n",
    "    pyplot.axvline(endrange,color='Red')\n",
    "    # generate a sample\n",
    "    sample = dataset\n",
    "    # calculate parameters\n",
    "    sample_mean =sample.mean()\n",
    "    sample_std = sample.std()\n",
    "    print('Mean=%.3f, Standard Deviation=%.3f' % (sample_mean, sample_std))\n",
    "    # define the distribution\n",
    "    dist = norm(sample_mean, sample_std)\n",
    "    \n",
    "    # sample probabilities for a range of outcomes\n",
    "    values = [value for value in range(startrange, endrange)]\n",
    "    probabilities = [dist.pdf(value) for value in values]    \n",
    "    prob=sum(probabilities)\n",
    "    print(\"The area between range({},{}):{}\".format(startrange,endrange,sum(probabilities)))\n",
    "    return prob\n",
    "    "
   ]
  },
  {
   "cell_type": "code",
   "execution_count": 27,
   "metadata": {},
   "outputs": [
    {
     "name": "stderr",
     "output_type": "stream",
     "text": [
      "D:\\ANACONDA\\ANA\\envs\\aiworks\\lib\\site-packages\\ipykernel_launcher.py:5: UserWarning: \n",
      "\n",
      "`distplot` is a deprecated function and will be removed in seaborn v0.14.0.\n",
      "\n",
      "Please adapt your code to use either `displot` (a figure-level function with\n",
      "similar flexibility) or `histplot` (an axes-level function for histograms).\n",
      "\n",
      "For a guide to updating your code to use the new functions, please see\n",
      "https://gist.github.com/mwaskom/de44147ed2974457ad6372750bbe5751\n",
      "\n",
      "  \"\"\"\n",
      "D:\\ANACONDA\\ANA\\envs\\aiworks\\lib\\site-packages\\matplotlib\\cbook\\__init__.py:1402: FutureWarning: Support for multi-dimensional indexing (e.g. `obj[:, None]`) is deprecated and will be removed in a future version.  Convert to a numpy array before indexing instead.\n",
      "  x[:, None]\n",
      "D:\\ANACONDA\\ANA\\envs\\aiworks\\lib\\site-packages\\matplotlib\\axes\\_base.py:276: FutureWarning: Support for multi-dimensional indexing (e.g. `obj[:, None]`) is deprecated and will be removed in a future version.  Convert to a numpy array before indexing instead.\n",
      "  x = x[:, np.newaxis]\n",
      "D:\\ANACONDA\\ANA\\envs\\aiworks\\lib\\site-packages\\matplotlib\\axes\\_base.py:278: FutureWarning: Support for multi-dimensional indexing (e.g. `obj[:, None]`) is deprecated and will be removed in a future version.  Convert to a numpy array before indexing instead.\n",
      "  y = y[:, np.newaxis]\n"
     ]
    },
    {
     "name": "stdout",
     "output_type": "stream",
     "text": [
      "Mean=209.512, Standard Deviation=8.615\n",
      "The area between range(219,230):0.13812171769186513\n"
     ]
    },
    {
     "data": {
      "text/plain": [
       "0.13812171769186513"
      ]
     },
     "execution_count": 27,
     "metadata": {},
     "output_type": "execute_result"
    },
    {
     "data": {
      "image/png": "[encoded data removed]",
      "text/plain": [
       "<Figure size 640x480 with 1 Axes>"
      ]
     },
     "metadata": {},
     "output_type": "display_data"
    }
   ],
   "source": [
    "get_pdf_probability(dataset[\"Low\"],219,230)"
   ]
  },
  {
   "cell_type": "code",
   "execution_count": 28,
   "metadata": {},
   "outputs": [],
   "source": [
    "def stdNBgraph(dataset):\n",
    "        # Coverted to standard Normal Distribution\n",
    "    import seaborn as sns\n",
    "    mean=dataset.mean()\n",
    "    std=dataset.std()\n",
    "\n",
    "    values=[i for i in dataset]\n",
    "\n",
    "    z_score=[((j-mean)/std) for j in values]\n",
    "\n",
    "    sns.distplot(z_score,kde=True)\n",
    "\n",
    "    sum(z_score)/len(z_score)\n",
    "    #z_score.std()\n"
   ]
  },
  {
   "cell_type": "code",
   "execution_count": 29,
   "metadata": {},
   "outputs": [
    {
     "name": "stderr",
     "output_type": "stream",
     "text": [
      "D:\\ANACONDA\\ANA\\envs\\aiworks\\lib\\site-packages\\ipykernel_launcher.py:11: UserWarning: \n",
      "\n",
      "`distplot` is a deprecated function and will be removed in seaborn v0.14.0.\n",
      "\n",
      "Please adapt your code to use either `displot` (a figure-level function with\n",
      "similar flexibility) or `histplot` (an axes-level function for histograms).\n",
      "\n",
      "For a guide to updating your code to use the new functions, please see\n",
      "https://gist.github.com/mwaskom/de44147ed2974457ad6372750bbe5751\n",
      "\n",
      "  # This is added back by InteractiveShellApp.init_path()\n",
      "D:\\ANACONDA\\ANA\\envs\\aiworks\\lib\\site-packages\\matplotlib\\cbook\\__init__.py:1402: FutureWarning: Support for multi-dimensional indexing (e.g. `obj[:, None]`) is deprecated and will be removed in a future version.  Convert to a numpy array before indexing instead.\n",
      "  x[:, None]\n",
      "D:\\ANACONDA\\ANA\\envs\\aiworks\\lib\\site-packages\\matplotlib\\axes\\_base.py:276: FutureWarning: Support for multi-dimensional indexing (e.g. `obj[:, None]`) is deprecated and will be removed in a future version.  Convert to a numpy array before indexing instead.\n",
      "  x = x[:, np.newaxis]\n",
      "D:\\ANACONDA\\ANA\\envs\\aiworks\\lib\\site-packages\\matplotlib\\axes\\_base.py:278: FutureWarning: Support for multi-dimensional indexing (e.g. `obj[:, None]`) is deprecated and will be removed in a future version.  Convert to a numpy array before indexing instead.\n",
      "  y = y[:, np.newaxis]\n"
     ]
    },
    {
     "data": {
      "image/png": "[encoded data removed]",
      "text/plain": [
       "<Figure size 640x480 with 1 Axes>"
      ]
     },
     "metadata": {},
     "output_type": "display_data"
    }
   ],
   "source": [
    "stdNBgraph(dataset[\"Low\"])"
   ]
  },
  {
   "cell_type": "code",
   "execution_count": 30,
   "metadata": {},
   "outputs": [],
   "source": [
    "def freqTable(columnName,dataset):\n",
    "    import pandas as pd\n",
    "    frq=pd.DataFrame()\n",
    "    frq[\"Unique_Values\"]=dataset[columnName].value_counts().index\n",
    "    frq[\"Frequency\"]=dataset[columnName].value_counts().values\n",
    "    frq[\"Relative_Fre\"]=dataset[columnName].value_counts().values/len(dataset[columnName])*100\n",
    "    frq[\"Cumulative\"]=frq[\"Relative_Fre\"].cumsum()\n",
    "    return frq"
   ]
  },
  {
   "cell_type": "code",
   "execution_count": 31,
   "metadata": {},
   "outputs": [
    {
     "data": {
      "text/html": [
       "<div>\n",
       "<style scoped>\n",
       "    .dataframe tbody tr th:only-of-type {\n",
       "        vertical-align: middle;\n",
       "    }\n",
       "\n",
       "    .dataframe tbody tr th {\n",
       "        vertical-align: top;\n",
       "    }\n",
       "\n",
       "    .dataframe thead th {\n",
       "        text-align: right;\n",
       "    }\n",
       "</style>\n",
       "<table border=\"1\" class=\"dataframe\">\n",
       "  <thead>\n",
       "    <tr style=\"text-align: right;\">\n",
       "      <th></th>\n",
       "      <th>Unique_Values</th>\n",
       "      <th>Frequency</th>\n",
       "      <th>Relative_Fre</th>\n",
       "      <th>Cumulative</th>\n",
       "    </tr>\n",
       "  </thead>\n",
       "  <tbody>\n",
       "    <tr>\n",
       "      <th>0</th>\n",
       "      <td>203.05</td>\n",
       "      <td>2</td>\n",
       "      <td>2.469136</td>\n",
       "      <td>2.469136</td>\n",
       "    </tr>\n",
       "    <tr>\n",
       "      <th>1</th>\n",
       "      <td>204.10</td>\n",
       "      <td>2</td>\n",
       "      <td>2.469136</td>\n",
       "      <td>4.938272</td>\n",
       "    </tr>\n",
       "    <tr>\n",
       "      <th>2</th>\n",
       "      <td>196.00</td>\n",
       "      <td>2</td>\n",
       "      <td>2.469136</td>\n",
       "      <td>7.407407</td>\n",
       "    </tr>\n",
       "    <tr>\n",
       "      <th>3</th>\n",
       "      <td>207.15</td>\n",
       "      <td>2</td>\n",
       "      <td>2.469136</td>\n",
       "      <td>9.876543</td>\n",
       "    </tr>\n",
       "    <tr>\n",
       "      <th>4</th>\n",
       "      <td>207.90</td>\n",
       "      <td>1</td>\n",
       "      <td>1.234568</td>\n",
       "      <td>11.111111</td>\n",
       "    </tr>\n",
       "    <tr>\n",
       "      <th>...</th>\n",
       "      <td>...</td>\n",
       "      <td>...</td>\n",
       "      <td>...</td>\n",
       "      <td>...</td>\n",
       "    </tr>\n",
       "    <tr>\n",
       "      <th>72</th>\n",
       "      <td>218.00</td>\n",
       "      <td>1</td>\n",
       "      <td>1.234568</td>\n",
       "      <td>95.061728</td>\n",
       "    </tr>\n",
       "    <tr>\n",
       "      <th>73</th>\n",
       "      <td>215.00</td>\n",
       "      <td>1</td>\n",
       "      <td>1.234568</td>\n",
       "      <td>96.296296</td>\n",
       "    </tr>\n",
       "    <tr>\n",
       "      <th>74</th>\n",
       "      <td>204.50</td>\n",
       "      <td>1</td>\n",
       "      <td>1.234568</td>\n",
       "      <td>97.530864</td>\n",
       "    </tr>\n",
       "    <tr>\n",
       "      <th>75</th>\n",
       "      <td>204.65</td>\n",
       "      <td>1</td>\n",
       "      <td>1.234568</td>\n",
       "      <td>98.765432</td>\n",
       "    </tr>\n",
       "    <tr>\n",
       "      <th>76</th>\n",
       "      <td>211.55</td>\n",
       "      <td>1</td>\n",
       "      <td>1.234568</td>\n",
       "      <td>100.000000</td>\n",
       "    </tr>\n",
       "  </tbody>\n",
       "</table>\n",
       "<p>77 rows × 4 columns</p>\n",
       "</div>"
      ],
      "text/plain": [
       "    Unique_Values  Frequency  Relative_Fre  Cumulative\n",
       "0          203.05          2      2.469136    2.469136\n",
       "1          204.10          2      2.469136    4.938272\n",
       "2          196.00          2      2.469136    7.407407\n",
       "3          207.15          2      2.469136    9.876543\n",
       "4          207.90          1      1.234568   11.111111\n",
       "..            ...        ...           ...         ...\n",
       "72         218.00          1      1.234568   95.061728\n",
       "73         215.00          1      1.234568   96.296296\n",
       "74         204.50          1      1.234568   97.530864\n",
       "75         204.65          1      1.234568   98.765432\n",
       "76         211.55          1      1.234568  100.000000\n",
       "\n",
       "[77 rows x 4 columns]"
      ]
     },
     "execution_count": 31,
     "metadata": {},
     "output_type": "execute_result"
    }
   ],
   "source": [
    "freqTable(\"Low\",dataset)"
   ]
  },
  {
   "cell_type": "code",
   "execution_count": 32,
   "metadata": {},
   "outputs": [
    {
     "data": {
      "text/html": [
       "<div>\n",
       "<style scoped>\n",
       "    .dataframe tbody tr th:only-of-type {\n",
       "        vertical-align: middle;\n",
       "    }\n",
       "\n",
       "    .dataframe tbody tr th {\n",
       "        vertical-align: top;\n",
       "    }\n",
       "\n",
       "    .dataframe thead th {\n",
       "        text-align: right;\n",
       "    }\n",
       "</style>\n",
       "<table border=\"1\" class=\"dataframe\">\n",
       "  <thead>\n",
       "    <tr style=\"text-align: right;\">\n",
       "      <th></th>\n",
       "      <th>Unique_Values</th>\n",
       "      <th>Frequency</th>\n",
       "      <th>Relative_Fre</th>\n",
       "      <th>Cumulative</th>\n",
       "    </tr>\n",
       "  </thead>\n",
       "  <tbody>\n",
       "    <tr>\n",
       "      <th>0</th>\n",
       "      <td>214.70</td>\n",
       "      <td>2</td>\n",
       "      <td>2.469136</td>\n",
       "      <td>2.469136</td>\n",
       "    </tr>\n",
       "    <tr>\n",
       "      <th>1</th>\n",
       "      <td>209.50</td>\n",
       "      <td>2</td>\n",
       "      <td>2.469136</td>\n",
       "      <td>4.938272</td>\n",
       "    </tr>\n",
       "    <tr>\n",
       "      <th>2</th>\n",
       "      <td>207.80</td>\n",
       "      <td>2</td>\n",
       "      <td>2.469136</td>\n",
       "      <td>7.407407</td>\n",
       "    </tr>\n",
       "    <tr>\n",
       "      <th>3</th>\n",
       "      <td>204.05</td>\n",
       "      <td>2</td>\n",
       "      <td>2.469136</td>\n",
       "      <td>9.876543</td>\n",
       "    </tr>\n",
       "    <tr>\n",
       "      <th>4</th>\n",
       "      <td>216.50</td>\n",
       "      <td>1</td>\n",
       "      <td>1.234568</td>\n",
       "      <td>11.111111</td>\n",
       "    </tr>\n",
       "    <tr>\n",
       "      <th>...</th>\n",
       "      <td>...</td>\n",
       "      <td>...</td>\n",
       "      <td>...</td>\n",
       "      <td>...</td>\n",
       "    </tr>\n",
       "    <tr>\n",
       "      <th>72</th>\n",
       "      <td>220.40</td>\n",
       "      <td>1</td>\n",
       "      <td>1.234568</td>\n",
       "      <td>95.061728</td>\n",
       "    </tr>\n",
       "    <tr>\n",
       "      <th>73</th>\n",
       "      <td>223.50</td>\n",
       "      <td>1</td>\n",
       "      <td>1.234568</td>\n",
       "      <td>96.296296</td>\n",
       "    </tr>\n",
       "    <tr>\n",
       "      <th>74</th>\n",
       "      <td>220.00</td>\n",
       "      <td>1</td>\n",
       "      <td>1.234568</td>\n",
       "      <td>97.530864</td>\n",
       "    </tr>\n",
       "    <tr>\n",
       "      <th>75</th>\n",
       "      <td>218.90</td>\n",
       "      <td>1</td>\n",
       "      <td>1.234568</td>\n",
       "      <td>98.765432</td>\n",
       "    </tr>\n",
       "    <tr>\n",
       "      <th>76</th>\n",
       "      <td>220.45</td>\n",
       "      <td>1</td>\n",
       "      <td>1.234568</td>\n",
       "      <td>100.000000</td>\n",
       "    </tr>\n",
       "  </tbody>\n",
       "</table>\n",
       "<p>77 rows × 4 columns</p>\n",
       "</div>"
      ],
      "text/plain": [
       "    Unique_Values  Frequency  Relative_Fre  Cumulative\n",
       "0          214.70          2      2.469136    2.469136\n",
       "1          209.50          2      2.469136    4.938272\n",
       "2          207.80          2      2.469136    7.407407\n",
       "3          204.05          2      2.469136    9.876543\n",
       "4          216.50          1      1.234568   11.111111\n",
       "..            ...        ...           ...         ...\n",
       "72         220.40          1      1.234568   95.061728\n",
       "73         223.50          1      1.234568   96.296296\n",
       "74         220.00          1      1.234568   97.530864\n",
       "75         218.90          1      1.234568   98.765432\n",
       "76         220.45          1      1.234568  100.000000\n",
       "\n",
       "[77 rows x 4 columns]"
      ]
     },
     "execution_count": 32,
     "metadata": {},
     "output_type": "execute_result"
    }
   ],
   "source": [
    "freqTable(\"High\",dataset)"
   ]
  },
  {
   "cell_type": "code",
   "execution_count": 33,
   "metadata": {
    "scrolled": false
   },
   "outputs": [],
   "source": [
    "fh=freqTable(\"High\",dataset)"
   ]
  },
  {
   "cell_type": "code",
   "execution_count": 34,
   "metadata": {},
   "outputs": [
    {
     "data": {
      "text/html": [
       "<div>\n",
       "<style scoped>\n",
       "    .dataframe tbody tr th:only-of-type {\n",
       "        vertical-align: middle;\n",
       "    }\n",
       "\n",
       "    .dataframe tbody tr th {\n",
       "        vertical-align: top;\n",
       "    }\n",
       "\n",
       "    .dataframe thead th {\n",
       "        text-align: right;\n",
       "    }\n",
       "</style>\n",
       "<table border=\"1\" class=\"dataframe\">\n",
       "  <thead>\n",
       "    <tr style=\"text-align: right;\">\n",
       "      <th></th>\n",
       "      <th>Unique_Values</th>\n",
       "      <th>Frequency</th>\n",
       "      <th>Relative_Fre</th>\n",
       "      <th>Cumulative</th>\n",
       "    </tr>\n",
       "  </thead>\n",
       "  <tbody>\n",
       "    <tr>\n",
       "      <th>0</th>\n",
       "      <td>214.70</td>\n",
       "      <td>2</td>\n",
       "      <td>2.469136</td>\n",
       "      <td>2.469136</td>\n",
       "    </tr>\n",
       "    <tr>\n",
       "      <th>2</th>\n",
       "      <td>207.80</td>\n",
       "      <td>2</td>\n",
       "      <td>2.469136</td>\n",
       "      <td>7.407407</td>\n",
       "    </tr>\n",
       "    <tr>\n",
       "      <th>3</th>\n",
       "      <td>204.05</td>\n",
       "      <td>2</td>\n",
       "      <td>2.469136</td>\n",
       "      <td>9.876543</td>\n",
       "    </tr>\n",
       "    <tr>\n",
       "      <th>1</th>\n",
       "      <td>209.50</td>\n",
       "      <td>2</td>\n",
       "      <td>2.469136</td>\n",
       "      <td>4.938272</td>\n",
       "    </tr>\n",
       "    <tr>\n",
       "      <th>49</th>\n",
       "      <td>214.90</td>\n",
       "      <td>1</td>\n",
       "      <td>1.234568</td>\n",
       "      <td>66.666667</td>\n",
       "    </tr>\n",
       "    <tr>\n",
       "      <th>...</th>\n",
       "      <td>...</td>\n",
       "      <td>...</td>\n",
       "      <td>...</td>\n",
       "      <td>...</td>\n",
       "    </tr>\n",
       "    <tr>\n",
       "      <th>26</th>\n",
       "      <td>206.85</td>\n",
       "      <td>1</td>\n",
       "      <td>1.234568</td>\n",
       "      <td>38.271605</td>\n",
       "    </tr>\n",
       "    <tr>\n",
       "      <th>25</th>\n",
       "      <td>203.90</td>\n",
       "      <td>1</td>\n",
       "      <td>1.234568</td>\n",
       "      <td>37.037037</td>\n",
       "    </tr>\n",
       "    <tr>\n",
       "      <th>24</th>\n",
       "      <td>222.00</td>\n",
       "      <td>1</td>\n",
       "      <td>1.234568</td>\n",
       "      <td>35.802469</td>\n",
       "    </tr>\n",
       "    <tr>\n",
       "      <th>23</th>\n",
       "      <td>213.90</td>\n",
       "      <td>1</td>\n",
       "      <td>1.234568</td>\n",
       "      <td>34.567901</td>\n",
       "    </tr>\n",
       "    <tr>\n",
       "      <th>76</th>\n",
       "      <td>220.45</td>\n",
       "      <td>1</td>\n",
       "      <td>1.234568</td>\n",
       "      <td>100.000000</td>\n",
       "    </tr>\n",
       "  </tbody>\n",
       "</table>\n",
       "<p>77 rows × 4 columns</p>\n",
       "</div>"
      ],
      "text/plain": [
       "    Unique_Values  Frequency  Relative_Fre  Cumulative\n",
       "0          214.70          2      2.469136    2.469136\n",
       "2          207.80          2      2.469136    7.407407\n",
       "3          204.05          2      2.469136    9.876543\n",
       "1          209.50          2      2.469136    4.938272\n",
       "49         214.90          1      1.234568   66.666667\n",
       "..            ...        ...           ...         ...\n",
       "26         206.85          1      1.234568   38.271605\n",
       "25         203.90          1      1.234568   37.037037\n",
       "24         222.00          1      1.234568   35.802469\n",
       "23         213.90          1      1.234568   34.567901\n",
       "76         220.45          1      1.234568  100.000000\n",
       "\n",
       "[77 rows x 4 columns]"
      ]
     },
     "execution_count": 34,
     "metadata": {},
     "output_type": "execute_result"
    }
   ],
   "source": [
    "fh.sort_values(by=\"Frequency\",ascending=False)"
   ]
  },
  {
   "cell_type": "code",
   "execution_count": 35,
   "metadata": {},
   "outputs": [],
   "source": [
    "fhs=fh[fh[\"Frequency\"]==2][\"Unique_Values\"].sort_values(ascending=False)"
   ]
  },
  {
   "cell_type": "code",
   "execution_count": 36,
   "metadata": {},
   "outputs": [
    {
     "data": {
      "text/plain": [
       "0    214.70\n",
       "1    209.50\n",
       "2    207.80\n",
       "3    204.05\n",
       "Name: Unique_Values, dtype: float64"
      ]
     },
     "execution_count": 36,
     "metadata": {},
     "output_type": "execute_result"
    }
   ],
   "source": [
    "fhs"
   ]
  },
  {
   "cell_type": "code",
   "execution_count": null,
   "metadata": {},
   "outputs": [],
   "source": []
  }
 ],
 "metadata": {
  "kernelspec": {
   "display_name": "Python 3 (ipykernel)",
   "language": "python",
   "name": "python3"
  },
  "language_info": {
   "codemirror_mode": {
    "name": "ipython",
    "version": 3
   },
   "file_extension": ".py",
   "mimetype": "text/x-python",
   "name": "python",
   "nbconvert_exporter": "python",
   "pygments_lexer": "ipython3",
   "version": "3.7.6"
  }
 },
 "nbformat": 4,
 "nbformat_minor": 2
}
